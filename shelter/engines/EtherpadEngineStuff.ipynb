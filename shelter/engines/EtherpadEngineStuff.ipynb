{
 "cells": [
  {
   "cell_type": "code",
   "execution_count": null,
   "metadata": {
    "collapsed": true
   },
   "outputs": [],
   "source": [
    "from etherpad_lite import EtherpadLiteClient"
   ]
  },
  {
   "cell_type": "code",
   "execution_count": 7,
   "metadata": {
    "collapsed": true
   },
   "outputs": [],
   "source": [
    "apikey = '2dd4c81386f54847e329fcfd6705314c410804cd1605d03d09d100f291f51acb'\n",
    "base_url='http://localhost:9001/api'"
   ]
  },
  {
   "cell_type": "code",
   "execution_count": 8,
   "metadata": {
    "collapsed": false
   },
   "outputs": [],
   "source": [
    "c = EtherpadLiteClient(base_params={'apikey': apikey}, base_url=base_url)"
   ]
  },
  {
   "cell_type": "markdown",
   "metadata": {},
   "source": [
    "## Engine V1"
   ]
  },
  {
   "cell_type": "code",
   "execution_count": 28,
   "metadata": {
    "collapsed": false
   },
   "outputs": [],
   "source": [
    "pad = c.getText(padID='test')\n",
    "\n",
    "newText = pad['text'] + '\\nNew text...'\n",
    "\n",
    "c.setText(padID='test', text=newText)"
   ]
  },
  {
   "cell_type": "markdown",
   "metadata": {},
   "source": [
    "## Engine V2"
   ]
  },
  {
   "cell_type": "code",
   "execution_count": 29,
   "metadata": {
    "collapsed": true
   },
   "outputs": [],
   "source": [
    "hashKey = '===================123456XXL'"
   ]
  },
  {
   "cell_type": "code",
   "execution_count": 30,
   "metadata": {
    "collapsed": true
   },
   "outputs": [],
   "source": [
    "pad = c.getText(padID='test')\n",
    "newText = pad['text'] + hashKey + '\\n' + hashKey\n",
    "c.setText(padID='test', text=newText)"
   ]
  },
  {
   "cell_type": "code",
   "execution_count": 37,
   "metadata": {
    "collapsed": false
   },
   "outputs": [],
   "source": [
    "pad = c.getText(padID='test')\n",
    "\n",
    "text = pad['text']\n",
    "parts = text.split(hashKey)\n",
    "\n",
    "newText = parts[0] + hashKey + '\\n' + 'New text' + '\\n' + hashKey + parts[2]\n",
    "\n",
    "c.setText(padID='test', text=newText)"
   ]
  },
  {
   "cell_type": "code",
   "execution_count": null,
   "metadata": {
    "collapsed": true
   },
   "outputs": [],
   "source": []
  }
 ],
 "metadata": {
  "kernelspec": {
   "display_name": "Python 2",
   "language": "python",
   "name": "python2"
  },
  "language_info": {
   "codemirror_mode": {
    "name": "ipython",
    "version": 2
   },
   "file_extension": ".py",
   "mimetype": "text/x-python",
   "name": "python",
   "nbconvert_exporter": "python",
   "pygments_lexer": "ipython2",
   "version": "2.7.6"
  }
 },
 "nbformat": 4,
 "nbformat_minor": 0
}
